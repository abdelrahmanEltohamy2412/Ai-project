{
 "cells": [
  {
   "cell_type": "code",
   "execution_count": 1,
   "id": "8a4e7cee",
   "metadata": {},
   "outputs": [],
   "source": [
    "import os\n",
    "import librosa\n",
    "import numpy as np\n",
    "import matplotlib.pyplot as plt\n",
    "import tensorflow as tf\n",
    "from tensorflow import keras\n",
    "from tensorflow.keras.layers import Dense,Dropout,Flatten,Conv1D,Input,MaxPooling1D\n",
    "from tensorflow.keras.models import Model,Sequential\n",
    "from tensorflow.keras.callbacks import EarlyStopping,ModelCheckpoint"
   ]
  },
  {
   "cell_type": "code",
   "execution_count": 2,
   "id": "0e37735f",
   "metadata": {},
   "outputs": [],
   "source": [
    "cats=os.listdir(\"F:/desktop2/CNN Models/categories/MV\")"
   ]
  },
  {
   "cell_type": "code",
   "execution_count": 3,
   "id": "d2c34968",
   "metadata": {},
   "outputs": [
    {
     "data": {
      "text/plain": [
       "['Absent', 'Present']"
      ]
     },
     "execution_count": 3,
     "metadata": {},
     "output_type": "execute_result"
    }
   ],
   "source": [
    "cats"
   ]
  },
  {
   "cell_type": "code",
   "execution_count": 4,
   "id": "4d70fc43",
   "metadata": {},
   "outputs": [],
   "source": [
    "from tqdm.notebook import tqdm"
   ]
  },
  {
   "cell_type": "code",
   "execution_count": 14,
   "id": "653dd093",
   "metadata": {},
   "outputs": [
    {
     "name": "stdout",
     "output_type": "stream",
     "text": [
      "Absent\n"
     ]
    },
    {
     "data": {
      "application/vnd.jupyter.widget-view+json": {
       "model_id": "1c6c32b779d04ad29a44cb3d251086bb",
       "version_major": 2,
       "version_minor": 0
      },
      "text/plain": [
       "  0%|          | 0/1062 [00:00<?, ?it/s]"
      ]
     },
     "metadata": {},
     "output_type": "display_data"
    },
    {
     "name": "stdout",
     "output_type": "stream",
     "text": [
      "Present\n"
     ]
    },
    {
     "data": {
      "application/vnd.jupyter.widget-view+json": {
       "model_id": "72aa6c70df284e31b002184e891612b6",
       "version_major": 2,
       "version_minor": 0
      },
      "text/plain": [
       "  0%|          | 0/460 [00:00<?, ?it/s]"
      ]
     },
     "metadata": {},
     "output_type": "display_data"
    }
   ],
   "source": [
    "all_wavs=[]\n",
    "all_label=[]\n",
    "\n",
    "for cat in cats:\n",
    "    print(cat)\n",
    "    wavs=os.listdir(f\"F:/desktop2/CNN Models/categories/MV/{cat}\")\n",
    "    for wav in tqdm(wavs):\n",
    "        samples,sample_rate=librosa.load(f\"F:/desktop2/CNN Models/categories/MV/{cat}/{wav}\",sr=8000)\n",
    "        mfcc=librosa.feature.mfcc(y=samples, sr=sample_rate, n_mfcc=13, n_fft=2048, hop_length=512 )\n",
    "        mfcc = mfcc.T\n",
    "        all_wavs.append(np.asarray(mfcc))\n",
    "        all_label.append(cat)\n",
    "       "
   ]
  },
  {
   "cell_type": "code",
   "execution_count": 15,
   "id": "8ad838d2",
   "metadata": {},
   "outputs": [
    {
     "data": {
      "text/plain": [
       "(1522, 1522)"
      ]
     },
     "execution_count": 15,
     "metadata": {},
     "output_type": "execute_result"
    }
   ],
   "source": [
    "len(all_wavs),len(all_label)"
   ]
  },
  {
   "cell_type": "code",
   "execution_count": 16,
   "id": "7236fd86",
   "metadata": {},
   "outputs": [
    {
     "data": {
      "text/plain": [
       "(357, 13)"
      ]
     },
     "execution_count": 16,
     "metadata": {},
     "output_type": "execute_result"
    }
   ],
   "source": [
    "all_wavs[0].shape"
   ]
  },
  {
   "cell_type": "code",
   "execution_count": 17,
   "id": "520d9bc4",
   "metadata": {},
   "outputs": [
    {
     "data": {
      "text/plain": [
       "(357, 13)"
      ]
     },
     "execution_count": 17,
     "metadata": {},
     "output_type": "execute_result"
    }
   ],
   "source": [
    "all_wavs[1].shape"
   ]
  },
  {
   "cell_type": "code",
   "execution_count": 18,
   "id": "6c6d73b5",
   "metadata": {},
   "outputs": [],
   "source": [
    "import pandas as pd\n",
    "df=pd.DataFrame({\"audio\":all_wavs,\"labels\":all_label})"
   ]
  },
  {
   "cell_type": "code",
   "execution_count": 19,
   "id": "ac639491",
   "metadata": {},
   "outputs": [
    {
     "data": {
      "text/plain": [
       "(460, 2)"
      ]
     },
     "execution_count": 19,
     "metadata": {},
     "output_type": "execute_result"
    }
   ],
   "source": [
    "present=df[df[\"labels\"] == \"Present\"]\n",
    "present.shape"
   ]
  },
  {
   "cell_type": "code",
   "execution_count": 20,
   "id": "1c5c66d7",
   "metadata": {},
   "outputs": [
    {
     "data": {
      "text/plain": [
       "(1062, 2)"
      ]
     },
     "execution_count": 20,
     "metadata": {},
     "output_type": "execute_result"
    }
   ],
   "source": [
    "absent=df[df[\"labels\"] == \"Absent\"]\n",
    "absent.shape"
   ]
  },
  {
   "cell_type": "code",
   "execution_count": 21,
   "id": "72674208",
   "metadata": {},
   "outputs": [
    {
     "data": {
      "text/plain": [
       "(600, 2)"
      ]
     },
     "execution_count": 21,
     "metadata": {},
     "output_type": "execute_result"
    }
   ],
   "source": [
    "absent_sample=absent.sample(600)\n",
    "absent_sample.shape"
   ]
  },
  {
   "cell_type": "code",
   "execution_count": 22,
   "id": "d06cf2b4",
   "metadata": {},
   "outputs": [],
   "source": [
    "df_balanced=pd.concat([present,absent_sample])"
   ]
  },
  {
   "cell_type": "code",
   "execution_count": 23,
   "id": "2518aa60",
   "metadata": {},
   "outputs": [
    {
     "data": {
      "text/html": [
       "<div>\n",
       "<style scoped>\n",
       "    .dataframe tbody tr th:only-of-type {\n",
       "        vertical-align: middle;\n",
       "    }\n",
       "\n",
       "    .dataframe tbody tr th {\n",
       "        vertical-align: top;\n",
       "    }\n",
       "\n",
       "    .dataframe thead th {\n",
       "        text-align: right;\n",
       "    }\n",
       "</style>\n",
       "<table border=\"1\" class=\"dataframe\">\n",
       "  <thead>\n",
       "    <tr style=\"text-align: right;\">\n",
       "      <th></th>\n",
       "      <th>audio</th>\n",
       "      <th>labels</th>\n",
       "    </tr>\n",
       "  </thead>\n",
       "  <tbody>\n",
       "    <tr>\n",
       "      <th>1062</th>\n",
       "      <td>[[-86.879036, 189.13715, -62.138206, 18.788097...</td>\n",
       "      <td>Present</td>\n",
       "    </tr>\n",
       "    <tr>\n",
       "      <th>1063</th>\n",
       "      <td>[[-56.4342, 150.32954, -36.054157, 9.015192, 2...</td>\n",
       "      <td>Present</td>\n",
       "    </tr>\n",
       "    <tr>\n",
       "      <th>1064</th>\n",
       "      <td>[[-47.6196, 140.78622, -31.478783, 7.7257195, ...</td>\n",
       "      <td>Present</td>\n",
       "    </tr>\n",
       "    <tr>\n",
       "      <th>1065</th>\n",
       "      <td>[[-91.377304, 193.72762, -63.128143, 17.282349...</td>\n",
       "      <td>Present</td>\n",
       "    </tr>\n",
       "    <tr>\n",
       "      <th>1066</th>\n",
       "      <td>[[-86.24824, 187.18828, -58.121544, 14.670029,...</td>\n",
       "      <td>Present</td>\n",
       "    </tr>\n",
       "  </tbody>\n",
       "</table>\n",
       "</div>"
      ],
      "text/plain": [
       "                                                  audio   labels\n",
       "1062  [[-86.879036, 189.13715, -62.138206, 18.788097...  Present\n",
       "1063  [[-56.4342, 150.32954, -36.054157, 9.015192, 2...  Present\n",
       "1064  [[-47.6196, 140.78622, -31.478783, 7.7257195, ...  Present\n",
       "1065  [[-91.377304, 193.72762, -63.128143, 17.282349...  Present\n",
       "1066  [[-86.24824, 187.18828, -58.121544, 14.670029,...  Present"
      ]
     },
     "execution_count": 23,
     "metadata": {},
     "output_type": "execute_result"
    }
   ],
   "source": [
    "df_balanced.head()"
   ]
  },
  {
   "cell_type": "code",
   "execution_count": 24,
   "id": "18727763",
   "metadata": {},
   "outputs": [],
   "source": [
    "wavs=df_balanced[\"audio\"]"
   ]
  },
  {
   "cell_type": "code",
   "execution_count": 25,
   "id": "16b88bb1",
   "metadata": {},
   "outputs": [
    {
     "data": {
      "text/plain": [
       "1062    [[-86.879036, 189.13715, -62.138206, 18.788097...\n",
       "1063    [[-56.4342, 150.32954, -36.054157, 9.015192, 2...\n",
       "1064    [[-47.6196, 140.78622, -31.478783, 7.7257195, ...\n",
       "1065    [[-91.377304, 193.72762, -63.128143, 17.282349...\n",
       "1066    [[-86.24824, 187.18828, -58.121544, 14.670029,...\n",
       "                              ...                        \n",
       "647     [[-130.32277, 99.53124, 12.465538, -21.820126,...\n",
       "126     [[-134.18301, 105.97238, -17.429684, 6.0610447...\n",
       "504     [[-136.64511, 80.054276, 16.510471, -10.865601...\n",
       "541     [[-132.52116, 133.90971, -33.2358, -22.212513,...\n",
       "44      [[-72.50276, 107.67087, -18.356138, -10.751805...\n",
       "Name: audio, Length: 1060, dtype: object"
      ]
     },
     "execution_count": 25,
     "metadata": {},
     "output_type": "execute_result"
    }
   ],
   "source": [
    "wavs"
   ]
  },
  {
   "cell_type": "code",
   "execution_count": 26,
   "id": "23b78dcb",
   "metadata": {},
   "outputs": [
    {
     "data": {
      "text/plain": [
       "(357, 13)"
      ]
     },
     "execution_count": 26,
     "metadata": {},
     "output_type": "execute_result"
    }
   ],
   "source": [
    "all_wavs[2].shape"
   ]
  },
  {
   "cell_type": "code",
   "execution_count": 27,
   "id": "a2ede270",
   "metadata": {},
   "outputs": [],
   "source": [
    "labels=df_balanced[\"labels\"]"
   ]
  },
  {
   "cell_type": "code",
   "execution_count": 28,
   "id": "91678377",
   "metadata": {},
   "outputs": [],
   "source": [
    "from tensorflow.keras.preprocessing.sequence import pad_sequences"
   ]
  },
  {
   "cell_type": "code",
   "execution_count": 29,
   "id": "8b427ba3",
   "metadata": {},
   "outputs": [],
   "source": [
    "X = np.asarray(wavs)\n",
    "y = np.asarray(labels)"
   ]
  },
  {
   "cell_type": "code",
   "execution_count": 30,
   "id": "8704516e",
   "metadata": {},
   "outputs": [
    {
     "data": {
      "text/plain": [
       "(1060, 967, 13)"
      ]
     },
     "execution_count": 30,
     "metadata": {},
     "output_type": "execute_result"
    }
   ],
   "source": [
    "X = tf.keras.preprocessing.sequence.pad_sequences(X)\n",
    "X.shape"
   ]
  },
  {
   "cell_type": "code",
   "execution_count": 31,
   "id": "f7b94993",
   "metadata": {},
   "outputs": [],
   "source": [
    "from sklearn.preprocessing import LabelEncoder"
   ]
  },
  {
   "cell_type": "code",
   "execution_count": 32,
   "id": "cb096be2",
   "metadata": {},
   "outputs": [],
   "source": [
    "le=LabelEncoder()\n",
    "y=le.fit_transform(labels)"
   ]
  },
  {
   "cell_type": "code",
   "execution_count": 33,
   "id": "f493f8f4",
   "metadata": {},
   "outputs": [
    {
     "data": {
      "text/plain": [
       "array([1, 1, 1, 1, 1, 1, 1, 1, 1, 1, 1, 1, 1, 1, 1, 1, 1, 1, 1, 1, 1, 1,\n",
       "       1, 1, 1])"
      ]
     },
     "execution_count": 33,
     "metadata": {},
     "output_type": "execute_result"
    }
   ],
   "source": [
    "y[:25]"
   ]
  },
  {
   "cell_type": "code",
   "execution_count": 34,
   "id": "e2ae3d17",
   "metadata": {},
   "outputs": [
    {
     "data": {
      "text/plain": [
       "(1060,)"
      ]
     },
     "execution_count": 34,
     "metadata": {},
     "output_type": "execute_result"
    }
   ],
   "source": [
    "y.shape"
   ]
  },
  {
   "cell_type": "code",
   "execution_count": 35,
   "id": "a78a54b5",
   "metadata": {},
   "outputs": [],
   "source": [
    "from sklearn.model_selection import train_test_split"
   ]
  },
  {
   "cell_type": "code",
   "execution_count": 36,
   "id": "cb0b5619",
   "metadata": {},
   "outputs": [],
   "source": [
    "X_train, X_test, y_train, y_test = train_test_split(X, y, test_size=0.1)"
   ]
  },
  {
   "cell_type": "code",
   "execution_count": 37,
   "id": "037c5fc8",
   "metadata": {},
   "outputs": [
    {
     "data": {
      "text/plain": [
       "((954, 967, 13), (106, 967, 13))"
      ]
     },
     "execution_count": 37,
     "metadata": {},
     "output_type": "execute_result"
    }
   ],
   "source": [
    "X_train.shape,X_test.shape"
   ]
  },
  {
   "cell_type": "code",
   "execution_count": 38,
   "id": "1df6ca3a",
   "metadata": {},
   "outputs": [
    {
     "data": {
      "text/plain": [
       "array([1, 0, 0, 0, 1, 0, 0, 1, 0, 1, 0, 0, 0, 0, 1, 1, 1, 0, 1, 1, 1, 0,\n",
       "       0, 0, 0, 0, 0, 0, 1, 0, 0, 1, 1, 1, 1, 1, 0, 0, 0, 0, 0, 1, 1, 0,\n",
       "       1, 0, 1, 1, 1, 0, 1, 1, 0, 0, 0, 1, 1, 0, 1, 1, 0, 0, 0, 1, 0, 1,\n",
       "       1, 0, 1, 1, 1, 1, 1, 0, 0, 0, 0, 0, 0, 1, 0, 0, 0, 1, 0, 1, 0, 1,\n",
       "       0, 1, 0, 0, 0, 1, 1, 1, 0, 0, 0, 0, 0, 1, 1, 0, 0, 1, 1, 0, 0, 0,\n",
       "       1, 1, 1, 0, 0, 0, 0, 1, 0, 1, 0, 0, 0, 0, 1, 1, 0, 1, 0, 1, 1, 1,\n",
       "       1, 1, 0, 0, 1, 1, 0, 1, 1, 1, 0, 1, 0, 1, 0, 1, 1, 1, 0, 0, 1, 0,\n",
       "       0, 0, 0, 0, 1, 1, 0, 0, 0, 0, 1, 1, 1, 1, 1, 0, 1, 0, 0, 1, 0, 1,\n",
       "       1, 0, 0, 0, 1, 0, 1, 1, 1, 1, 0, 1, 0, 0, 1, 0, 0, 1, 0, 0, 0, 0,\n",
       "       0, 1, 1, 0, 0, 1, 1, 1, 1, 0, 0, 1, 1, 1, 0, 0, 0, 0, 1, 1, 0, 1,\n",
       "       1, 0, 1, 1, 1, 0, 0, 0, 0, 0, 1, 0, 0, 1, 0, 1, 1, 1, 1, 0, 1, 1,\n",
       "       1, 1, 1, 1, 0, 0, 0, 0, 0, 1, 1, 0, 1, 0, 1, 1, 1, 0, 1, 1, 0, 0,\n",
       "       1, 1, 0, 0, 1, 0, 0, 1, 1, 1, 0, 0, 0, 1, 0, 1, 1, 1, 0, 0, 1, 1,\n",
       "       1, 0, 0, 1, 1, 0, 1, 0, 0, 0, 1, 0, 1, 0, 1, 1, 1, 1, 1, 1, 0, 0,\n",
       "       0, 0, 1, 0, 0, 1, 0, 1, 0, 1, 0, 1, 1, 1, 0, 1, 0, 0, 1, 0, 0, 0,\n",
       "       0, 1, 0, 1, 1, 1, 0, 0, 0, 0, 1, 0, 1, 1, 1, 0, 0, 0, 1, 0, 0, 1,\n",
       "       1, 1, 0, 0, 1, 0, 0, 1, 0, 0, 1, 1, 0, 0, 1, 1, 0, 1, 0, 1, 1, 0,\n",
       "       0, 0, 0, 0, 0, 0, 0, 0, 0, 0, 1, 0, 1, 0, 0, 1, 0, 0, 1, 0, 0, 0,\n",
       "       1, 1, 0, 0, 1, 0, 0, 1, 0, 1, 0, 0, 1, 0, 0, 0, 0, 1, 0, 1, 0, 0,\n",
       "       0, 1, 0, 0, 1, 1, 1, 0, 1, 0, 0, 1, 1, 0, 1, 1, 0, 1, 1, 0, 1, 0,\n",
       "       0, 1, 0, 0, 0, 0, 1, 0, 0, 1, 1, 1, 1, 1, 0, 0, 0, 1, 0, 0, 0, 0,\n",
       "       0, 1, 0, 0, 0, 1, 1, 1, 0, 0, 1, 0, 0, 1, 1, 1, 0, 1, 0, 0, 1, 1,\n",
       "       0, 1, 1, 1, 0, 1, 0, 0, 0, 1, 1, 0, 0, 0, 1, 0, 0, 1, 1, 0, 0, 0,\n",
       "       1, 0, 1, 1, 1, 1, 1, 0, 0, 0, 1, 0, 1, 1, 0, 1, 0, 1, 1, 1, 0, 0,\n",
       "       0, 1, 1, 0, 1, 1, 1, 0, 0, 0, 1, 1, 0, 0, 0, 0, 1, 1, 0, 0, 0, 0,\n",
       "       0, 0, 0, 0, 0, 0, 0, 0, 0, 0, 0, 1, 1, 0, 0, 1, 1, 1, 0, 1, 0, 1,\n",
       "       1, 1, 1, 0, 0, 0, 0, 0, 0, 1, 1, 1, 1, 0, 1, 0, 0, 0, 0, 0, 0, 0,\n",
       "       1, 1, 1, 0, 1, 1, 0, 1, 1, 0, 0, 1, 1, 1, 1, 0, 0, 1, 0, 1, 0, 0,\n",
       "       1, 0, 0, 1, 0, 1, 0, 0, 1, 0, 1, 1, 0, 0, 0, 0, 1, 1, 1, 1, 0, 0,\n",
       "       1, 1, 0, 1, 0, 0, 0, 0, 0, 1, 0, 1, 0, 1, 0, 0, 0, 0, 1, 1, 1, 0,\n",
       "       0, 0, 1, 1, 0, 0, 0, 0, 0, 0, 0, 0, 0, 1, 0, 0, 0, 0, 1, 0, 1, 1,\n",
       "       1, 1, 1, 1, 0, 0, 1, 1, 1, 0, 0, 0, 1, 1, 1, 1, 0, 1, 1, 0, 1, 0,\n",
       "       0, 1, 0, 0, 0, 0, 0, 0, 0, 0, 1, 1, 1, 0, 0, 0, 0, 1, 0, 0, 0, 1,\n",
       "       0, 1, 1, 0, 1, 1, 0, 0, 0, 1, 0, 0, 1, 1, 0, 1, 0, 0, 0, 1, 1, 0,\n",
       "       0, 1, 0, 1, 0, 1, 0, 1, 0, 1, 0, 1, 0, 0, 1, 0, 0, 1, 1, 1, 1, 0,\n",
       "       1, 0, 1, 0, 0, 0, 0, 0, 1, 0, 1, 1, 1, 0, 0, 1, 1, 0, 1, 0, 0, 1,\n",
       "       0, 0, 1, 0, 0, 0, 0, 1, 0, 0, 0, 0, 0, 0, 1, 0, 0, 0, 0, 1, 0, 1,\n",
       "       0, 0, 0, 1, 0, 0, 1, 0, 0, 0, 1, 0, 1, 1, 0, 1, 0, 1, 1, 0, 1, 0,\n",
       "       0, 1, 1, 1, 0, 0, 0, 0, 1, 1, 0, 0, 0, 1, 1, 1, 0, 0, 0, 0, 0, 0,\n",
       "       1, 0, 1, 0, 0, 1, 1, 0, 0, 1, 1, 0, 1, 0, 1, 0, 0, 0, 0, 1, 0, 0,\n",
       "       0, 1, 0, 0, 0, 1, 0, 1, 1, 0, 0, 0, 0, 1, 1, 0, 1, 0, 1, 1, 0, 1,\n",
       "       0, 1, 1, 1, 1, 0, 0, 0, 1, 0, 0, 0, 0, 0, 1, 0, 0, 1, 1, 0, 0, 1,\n",
       "       0, 1, 1, 1, 1, 0, 0, 1, 0, 0, 0, 0, 0, 0, 0, 0, 1, 1, 0, 0, 1, 1,\n",
       "       0, 0, 0, 0, 0, 1, 0, 1])"
      ]
     },
     "execution_count": 38,
     "metadata": {},
     "output_type": "execute_result"
    }
   ],
   "source": [
    "y_train"
   ]
  },
  {
   "cell_type": "code",
   "execution_count": 39,
   "id": "d259b7c1",
   "metadata": {},
   "outputs": [],
   "source": [
    "X_train_cnn = X_train.reshape(X_train.shape[0], 967, 13, 1)\n",
    "X_test_cnn = X_test.reshape(X_test.shape[0], 967, 13, 1)"
   ]
  },
  {
   "cell_type": "code",
   "execution_count": 40,
   "id": "e7f8498d",
   "metadata": {},
   "outputs": [
    {
     "data": {
      "text/plain": [
       "(954, 967, 13, 1)"
      ]
     },
     "execution_count": 40,
     "metadata": {},
     "output_type": "execute_result"
    }
   ],
   "source": [
    "X_train_cnn.shape"
   ]
  },
  {
   "cell_type": "code",
   "execution_count": 41,
   "id": "0f125d34",
   "metadata": {},
   "outputs": [],
   "source": [
    "## RNN Model\n",
    "def build_model(input_shape):\n",
    "    model = tf.keras.Sequential()\n",
    "\n",
    "    model.add(tf.keras.layers.LSTM(128, input_shape=input_shape, return_sequences=True))\n",
    "    model.add(tf.keras.layers.LSTM(64))\n",
    "    \n",
    "    model.add(Dense(128, activation='relu'))\n",
    "    model.add(Dropout(0.2))\n",
    "\n",
    "    model.add(Dense(64, activation='relu'))\n",
    "    model.add(Dropout(0.3))\n",
    "\n",
    "    model.add(Dense(1, activation='sigmoid'))\n",
    "\n",
    "    return model"
   ]
  },
  {
   "cell_type": "code",
   "execution_count": 42,
   "id": "e9cfd4ae",
   "metadata": {},
   "outputs": [],
   "source": [
    "def get_model():\n",
    "    model = Sequential()\n",
    "    model.add(tf.keras.layers.Conv2D(32, kernel_size=(2, 2), activation='relu', input_shape=(967,13 , 1)))\n",
    "    model.add(tf.keras.layers.Conv2D(48, kernel_size=(2, 2), activation='relu'))\n",
    "    model.add(tf.keras.layers.Conv2D(120, kernel_size=(2, 2), activation='relu'))\n",
    "    model.add(tf.keras.layers.MaxPooling2D(pool_size=(2, 2)))\n",
    "    model.add(Dropout(0.25))\n",
    "    model.add(Flatten())\n",
    "    model.add(Dense(128, activation='relu'))\n",
    "    model.add(Dropout(0.25))\n",
    "    model.add(Dense(64, activation='relu'))\n",
    "    model.add(Dropout(0.4))\n",
    "    model.add(tf.keras.layers.Dense(1, activation='sigmoid'))\n",
    "    return model"
   ]
  },
  {
   "cell_type": "code",
   "execution_count": 43,
   "id": "c140fd3e",
   "metadata": {},
   "outputs": [
    {
     "name": "stdout",
     "output_type": "stream",
     "text": [
      "Model: \"sequential\"\n",
      "_________________________________________________________________\n",
      " Layer (type)                Output Shape              Param #   \n",
      "=================================================================\n",
      " lstm (LSTM)                 (None, 967, 128)          72704     \n",
      "                                                                 \n",
      " lstm_1 (LSTM)               (None, 64)                49408     \n",
      "                                                                 \n",
      " dense (Dense)               (None, 128)               8320      \n",
      "                                                                 \n",
      " dropout (Dropout)           (None, 128)               0         \n",
      "                                                                 \n",
      " dense_1 (Dense)             (None, 64)                8256      \n",
      "                                                                 \n",
      " dropout_1 (Dropout)         (None, 64)                0         \n",
      "                                                                 \n",
      " dense_2 (Dense)             (None, 1)                 65        \n",
      "                                                                 \n",
      "=================================================================\n",
      "Total params: 138,753\n",
      "Trainable params: 138,753\n",
      "Non-trainable params: 0\n",
      "_________________________________________________________________\n"
     ]
    }
   ],
   "source": [
    "# create network\n",
    "model = build_model((967,13))\n",
    "\n",
    "# compile model\n",
    "optimiser = tf.keras.optimizers.Adam(learning_rate=0.001)\n",
    "model.compile(optimizer=optimiser,\n",
    "                  loss='binary_crossentropy',\n",
    "                  metrics=['accuracy'])\n",
    "\n",
    "model.summary()"
   ]
  },
  {
   "cell_type": "code",
   "execution_count": 44,
   "id": "86b3f8f7",
   "metadata": {},
   "outputs": [
    {
     "name": "stdout",
     "output_type": "stream",
     "text": [
      "Epoch 1/100\n",
      "30/30 [==============================] - 29s 800ms/step - loss: 0.6476 - accuracy: 0.6164\n",
      "Epoch 2/100\n",
      "30/30 [==============================] - 24s 786ms/step - loss: 0.6062 - accuracy: 0.6918\n",
      "Epoch 3/100\n",
      "30/30 [==============================] - 24s 797ms/step - loss: 0.5541 - accuracy: 0.7579\n",
      "Epoch 4/100\n",
      "30/30 [==============================] - 24s 798ms/step - loss: 0.4929 - accuracy: 0.7862\n",
      "Epoch 5/100\n",
      "30/30 [==============================] - 24s 807ms/step - loss: 0.4608 - accuracy: 0.7956\n",
      "Epoch 6/100\n",
      "30/30 [==============================] - 24s 801ms/step - loss: 0.4158 - accuracy: 0.8218\n",
      "Epoch 7/100\n",
      "30/30 [==============================] - 24s 794ms/step - loss: 0.3549 - accuracy: 0.8501\n",
      "Epoch 8/100\n",
      "30/30 [==============================] - 24s 790ms/step - loss: 0.3358 - accuracy: 0.8449\n",
      "Epoch 9/100\n",
      "30/30 [==============================] - 24s 791ms/step - loss: 0.3354 - accuracy: 0.8574\n",
      "Epoch 10/100\n",
      "30/30 [==============================] - 24s 793ms/step - loss: 0.2799 - accuracy: 0.8899\n",
      "Epoch 11/100\n",
      "30/30 [==============================] - 24s 799ms/step - loss: 0.3268 - accuracy: 0.8658\n",
      "Epoch 12/100\n",
      "30/30 [==============================] - 24s 788ms/step - loss: 0.2466 - accuracy: 0.9015\n",
      "Epoch 13/100\n",
      "30/30 [==============================] - 24s 784ms/step - loss: 0.2065 - accuracy: 0.9109\n",
      "Epoch 14/100\n",
      "30/30 [==============================] - 24s 784ms/step - loss: 0.1825 - accuracy: 0.9298\n",
      "Epoch 15/100\n",
      "30/30 [==============================] - 23s 782ms/step - loss: 0.2028 - accuracy: 0.9224\n",
      "Epoch 16/100\n",
      "30/30 [==============================] - 24s 788ms/step - loss: 0.1988 - accuracy: 0.9172\n",
      "Epoch 17/100\n",
      "30/30 [==============================] - 24s 787ms/step - loss: 0.1638 - accuracy: 0.9382\n",
      "Epoch 18/100\n",
      "30/30 [==============================] - 24s 791ms/step - loss: 0.1523 - accuracy: 0.9371\n",
      "Epoch 19/100\n",
      "30/30 [==============================] - 24s 788ms/step - loss: 0.1675 - accuracy: 0.9392\n",
      "Epoch 20/100\n",
      "30/30 [==============================] - 24s 794ms/step - loss: 0.1547 - accuracy: 0.9382\n",
      "Epoch 21/100\n",
      "30/30 [==============================] - 24s 794ms/step - loss: 0.1549 - accuracy: 0.9308\n",
      "Epoch 22/100\n",
      "30/30 [==============================] - 24s 792ms/step - loss: 0.1506 - accuracy: 0.9329\n",
      "Epoch 23/100\n",
      "30/30 [==============================] - 24s 791ms/step - loss: 0.1614 - accuracy: 0.9266\n",
      "Epoch 24/100\n",
      "30/30 [==============================] - 24s 792ms/step - loss: 0.1384 - accuracy: 0.9382\n",
      "Epoch 25/100\n",
      "30/30 [==============================] - 24s 792ms/step - loss: 0.1202 - accuracy: 0.9455\n",
      "Epoch 26/100\n",
      "30/30 [==============================] - 24s 798ms/step - loss: 0.1305 - accuracy: 0.9413\n",
      "Epoch 27/100\n",
      "30/30 [==============================] - 24s 794ms/step - loss: 0.1201 - accuracy: 0.9497\n",
      "Epoch 28/100\n",
      "30/30 [==============================] - 24s 798ms/step - loss: 0.1815 - accuracy: 0.9277\n",
      "Epoch 29/100\n",
      "30/30 [==============================] - 24s 803ms/step - loss: 0.1519 - accuracy: 0.9434\n",
      "Epoch 30/100\n",
      "30/30 [==============================] - 24s 809ms/step - loss: 0.1260 - accuracy: 0.9507\n",
      "Epoch 31/100\n",
      "30/30 [==============================] - 24s 799ms/step - loss: 0.1432 - accuracy: 0.9392\n",
      "Epoch 32/100\n",
      "30/30 [==============================] - 24s 798ms/step - loss: 0.1210 - accuracy: 0.9549\n",
      "Epoch 33/100\n",
      "30/30 [==============================] - 24s 799ms/step - loss: 0.1433 - accuracy: 0.9476\n",
      "Epoch 34/100\n",
      "30/30 [==============================] - 24s 797ms/step - loss: 0.1008 - accuracy: 0.9581\n",
      "Epoch 35/100\n",
      "30/30 [==============================] - 24s 795ms/step - loss: 0.0998 - accuracy: 0.9602\n",
      "Epoch 36/100\n",
      "30/30 [==============================] - 24s 793ms/step - loss: 0.1078 - accuracy: 0.9644\n",
      "Epoch 37/100\n",
      "30/30 [==============================] - 24s 795ms/step - loss: 0.1390 - accuracy: 0.9444\n",
      "Epoch 38/100\n",
      "30/30 [==============================] - 24s 792ms/step - loss: 0.1267 - accuracy: 0.9465\n",
      "Epoch 39/100\n",
      "30/30 [==============================] - 24s 793ms/step - loss: 0.0764 - accuracy: 0.9665\n",
      "Epoch 40/100\n",
      "30/30 [==============================] - 24s 801ms/step - loss: 0.0590 - accuracy: 0.9801\n",
      "Epoch 41/100\n",
      "30/30 [==============================] - 24s 796ms/step - loss: 0.0898 - accuracy: 0.9675\n",
      "Epoch 42/100\n",
      "30/30 [==============================] - 24s 795ms/step - loss: 0.1033 - accuracy: 0.9633\n",
      "Epoch 43/100\n",
      "30/30 [==============================] - 24s 806ms/step - loss: 0.0923 - accuracy: 0.9644\n",
      "Epoch 44/100\n",
      "30/30 [==============================] - 24s 789ms/step - loss: 0.0815 - accuracy: 0.9706\n",
      "Epoch 45/100\n",
      "30/30 [==============================] - 24s 793ms/step - loss: 0.0579 - accuracy: 0.9801\n",
      "Epoch 46/100\n",
      "30/30 [==============================] - 24s 794ms/step - loss: 0.1115 - accuracy: 0.9591\n",
      "Epoch 47/100\n",
      "30/30 [==============================] - 24s 794ms/step - loss: 0.0618 - accuracy: 0.9790\n",
      "Epoch 48/100\n",
      "30/30 [==============================] - 24s 805ms/step - loss: 0.0555 - accuracy: 0.9759\n",
      "Epoch 49/100\n",
      "30/30 [==============================] - 24s 794ms/step - loss: 0.0288 - accuracy: 0.9906\n",
      "Epoch 50/100\n",
      "30/30 [==============================] - 24s 789ms/step - loss: 0.0559 - accuracy: 0.9748\n",
      "Epoch 51/100\n",
      "30/30 [==============================] - 24s 795ms/step - loss: 0.1018 - accuracy: 0.9654\n",
      "Epoch 52/100\n",
      "30/30 [==============================] - 24s 793ms/step - loss: 0.0902 - accuracy: 0.9654\n",
      "Epoch 53/100\n",
      "30/30 [==============================] - 24s 792ms/step - loss: 0.0498 - accuracy: 0.9832\n",
      "Epoch 54/100\n",
      "30/30 [==============================] - 24s 797ms/step - loss: 0.0773 - accuracy: 0.9706\n",
      "Epoch 55/100\n",
      "30/30 [==============================] - 24s 788ms/step - loss: 0.0605 - accuracy: 0.9769\n",
      "Epoch 56/100\n",
      "30/30 [==============================] - 24s 783ms/step - loss: 0.0419 - accuracy: 0.9874\n",
      "Epoch 57/100\n",
      "30/30 [==============================] - 24s 789ms/step - loss: 0.0282 - accuracy: 0.9937\n",
      "Epoch 58/100\n",
      "30/30 [==============================] - 24s 795ms/step - loss: 0.0180 - accuracy: 0.9969\n",
      "Epoch 59/100\n",
      "30/30 [==============================] - 24s 810ms/step - loss: 0.0459 - accuracy: 0.9811\n",
      "Epoch 60/100\n",
      "30/30 [==============================] - 24s 805ms/step - loss: 0.0685 - accuracy: 0.9696\n",
      "Epoch 61/100\n",
      "30/30 [==============================] - 24s 806ms/step - loss: 0.0882 - accuracy: 0.9675\n",
      "Epoch 62/100\n",
      "30/30 [==============================] - 24s 814ms/step - loss: 0.0526 - accuracy: 0.9822\n",
      "Epoch 63/100\n",
      "30/30 [==============================] - 24s 806ms/step - loss: 0.0443 - accuracy: 0.9832\n",
      "Epoch 64/100\n",
      "30/30 [==============================] - 25s 822ms/step - loss: 0.0195 - accuracy: 0.9927\n",
      "Epoch 65/100\n",
      "30/30 [==============================] - 24s 815ms/step - loss: 0.0622 - accuracy: 0.9748\n",
      "Epoch 66/100\n",
      "30/30 [==============================] - 25s 829ms/step - loss: 0.0251 - accuracy: 0.9916\n",
      "Epoch 67/100\n",
      "30/30 [==============================] - 25s 823ms/step - loss: 0.0205 - accuracy: 0.9927\n",
      "Epoch 68/100\n",
      "30/30 [==============================] - 24s 812ms/step - loss: 0.0314 - accuracy: 0.9895\n",
      "Epoch 69/100\n",
      "30/30 [==============================] - 24s 805ms/step - loss: 0.0898 - accuracy: 0.9654\n",
      "Epoch 70/100\n",
      "30/30 [==============================] - 24s 800ms/step - loss: 0.0990 - accuracy: 0.9602\n",
      "Epoch 71/100\n",
      "30/30 [==============================] - 24s 812ms/step - loss: 0.0528 - accuracy: 0.9801\n",
      "Epoch 72/100\n",
      "30/30 [==============================] - 24s 802ms/step - loss: 0.0366 - accuracy: 0.9885\n",
      "Epoch 73/100\n",
      "30/30 [==============================] - 24s 811ms/step - loss: 0.0121 - accuracy: 0.9979\n",
      "Epoch 74/100\n",
      "30/30 [==============================] - 24s 811ms/step - loss: 0.0060 - accuracy: 0.9979\n",
      "Epoch 75/100\n",
      "30/30 [==============================] - 24s 804ms/step - loss: 0.0075 - accuracy: 0.9979\n",
      "Epoch 76/100\n",
      "30/30 [==============================] - 24s 808ms/step - loss: 0.0053 - accuracy: 0.9990\n",
      "Epoch 77/100\n",
      "30/30 [==============================] - 24s 809ms/step - loss: 0.0039 - accuracy: 0.9990\n",
      "Epoch 78/100\n",
      "30/30 [==============================] - 24s 801ms/step - loss: 0.0229 - accuracy: 0.9916\n",
      "Epoch 79/100\n",
      "30/30 [==============================] - 24s 817ms/step - loss: 0.1105 - accuracy: 0.9665\n",
      "Epoch 80/100\n",
      "30/30 [==============================] - 24s 802ms/step - loss: 0.0389 - accuracy: 0.9843\n",
      "Epoch 81/100\n",
      "30/30 [==============================] - 24s 815ms/step - loss: 0.0253 - accuracy: 0.9895\n",
      "Epoch 82/100\n",
      "30/30 [==============================] - 25s 829ms/step - loss: 0.0280 - accuracy: 0.9895\n",
      "Epoch 83/100\n",
      "30/30 [==============================] - 24s 808ms/step - loss: 0.0543 - accuracy: 0.9843\n",
      "Epoch 84/100\n",
      "30/30 [==============================] - 24s 801ms/step - loss: 0.0876 - accuracy: 0.9706\n",
      "Epoch 85/100\n",
      "30/30 [==============================] - 25s 821ms/step - loss: 0.0208 - accuracy: 0.9948\n",
      "Epoch 86/100\n",
      "30/30 [==============================] - 25s 828ms/step - loss: 0.0048 - accuracy: 1.0000\n",
      "Epoch 87/100\n",
      "30/30 [==============================] - 25s 846ms/step - loss: 0.0020 - accuracy: 1.0000\n",
      "Epoch 88/100\n",
      "30/30 [==============================] - 25s 837ms/step - loss: 0.0010 - accuracy: 1.0000\n",
      "Epoch 89/100\n",
      "30/30 [==============================] - 26s 852ms/step - loss: 8.7136e-04 - accuracy: 1.0000\n",
      "Epoch 90/100\n",
      "30/30 [==============================] - 26s 873ms/step - loss: 6.6240e-04 - accuracy: 1.0000\n",
      "Epoch 91/100\n",
      "30/30 [==============================] - 26s 864ms/step - loss: 6.0297e-04 - accuracy: 1.0000\n",
      "Epoch 92/100\n",
      "30/30 [==============================] - 26s 856ms/step - loss: 5.4909e-04 - accuracy: 1.0000\n",
      "Epoch 93/100\n",
      "30/30 [==============================] - 26s 851ms/step - loss: 4.4213e-04 - accuracy: 1.0000\n",
      "Epoch 94/100\n",
      "30/30 [==============================] - 26s 852ms/step - loss: 4.1274e-04 - accuracy: 1.0000\n",
      "Epoch 95/100\n",
      "30/30 [==============================] - 26s 861ms/step - loss: 3.6976e-04 - accuracy: 1.0000\n",
      "Epoch 96/100\n",
      "30/30 [==============================] - 26s 851ms/step - loss: 3.5354e-04 - accuracy: 1.0000\n",
      "Epoch 97/100\n",
      "30/30 [==============================] - 25s 842ms/step - loss: 2.9259e-04 - accuracy: 1.0000\n",
      "Epoch 98/100\n",
      "30/30 [==============================] - 26s 851ms/step - loss: 2.0592e-04 - accuracy: 1.0000\n",
      "Epoch 99/100\n",
      "30/30 [==============================] - 25s 836ms/step - loss: 2.2003e-04 - accuracy: 1.0000\n",
      "Epoch 100/100\n",
      "30/30 [==============================] - 26s 856ms/step - loss: 2.0092e-04 - accuracy: 1.0000\n"
     ]
    },
    {
     "data": {
      "text/plain": [
       "<keras.callbacks.History at 0x24be24856c0>"
      ]
     },
     "execution_count": 44,
     "metadata": {},
     "output_type": "execute_result"
    }
   ],
   "source": [
    "model.fit(X_train_cnn,y_train,epochs=100,verbose=1)"
   ]
  },
  {
   "cell_type": "code",
   "execution_count": 45,
   "id": "2375369e",
   "metadata": {},
   "outputs": [
    {
     "name": "stdout",
     "output_type": "stream",
     "text": [
      "Model: \"sequential_1\"\n",
      "_________________________________________________________________\n",
      " Layer (type)                Output Shape              Param #   \n",
      "=================================================================\n",
      " conv2d (Conv2D)             (None, 966, 12, 32)       160       \n",
      "                                                                 \n",
      " conv2d_1 (Conv2D)           (None, 965, 11, 48)       6192      \n",
      "                                                                 \n",
      " conv2d_2 (Conv2D)           (None, 964, 10, 120)      23160     \n",
      "                                                                 \n",
      " max_pooling2d (MaxPooling2D  (None, 482, 5, 120)      0         \n",
      " )                                                               \n",
      "                                                                 \n",
      " dropout_2 (Dropout)         (None, 482, 5, 120)       0         \n",
      "                                                                 \n",
      " flatten (Flatten)           (None, 289200)            0         \n",
      "                                                                 \n",
      " dense_3 (Dense)             (None, 128)               37017728  \n",
      "                                                                 \n",
      " dropout_3 (Dropout)         (None, 128)               0         \n",
      "                                                                 \n",
      " dense_4 (Dense)             (None, 64)                8256      \n",
      "                                                                 \n",
      " dropout_4 (Dropout)         (None, 64)                0         \n",
      "                                                                 \n",
      " dense_5 (Dense)             (None, 1)                 65        \n",
      "                                                                 \n",
      "=================================================================\n",
      "Total params: 37,055,561\n",
      "Trainable params: 37,055,561\n",
      "Non-trainable params: 0\n",
      "_________________________________________________________________\n"
     ]
    }
   ],
   "source": [
    "# create network\n",
    "model_cnn = get_model()\n",
    "\n",
    "# compile model\n",
    "optimiser = tf.keras.optimizers.Adam(learning_rate=0.001)\n",
    "model_cnn.compile(optimizer=\"RMSprop\",\n",
    "                  loss='binary_crossentropy',\n",
    "                  metrics=['accuracy'])\n",
    "\n",
    "model_cnn.summary()"
   ]
  },
  {
   "cell_type": "code",
   "execution_count": 46,
   "id": "09b1a7f4",
   "metadata": {},
   "outputs": [
    {
     "name": "stdout",
     "output_type": "stream",
     "text": [
      "Epoch 1/100\n",
      "30/30 [==============================] - 32s 1s/step - loss: 18.6895 - accuracy: 0.5964\n",
      "Epoch 2/100\n",
      "30/30 [==============================] - 30s 1s/step - loss: 0.5027 - accuracy: 0.7642\n",
      "Epoch 3/100\n",
      "30/30 [==============================] - 29s 982ms/step - loss: 0.3071 - accuracy: 0.8857\n",
      "Epoch 4/100\n",
      "30/30 [==============================] - 29s 981ms/step - loss: 0.2227 - accuracy: 0.9319\n",
      "Epoch 5/100\n",
      "30/30 [==============================] - 30s 984ms/step - loss: 0.1256 - accuracy: 0.9602\n",
      "Epoch 6/100\n",
      "30/30 [==============================] - 29s 979ms/step - loss: 0.0665 - accuracy: 0.9801\n",
      "Epoch 7/100\n",
      "30/30 [==============================] - 29s 977ms/step - loss: 0.0630 - accuracy: 0.9832\n",
      "Epoch 8/100\n",
      "30/30 [==============================] - 29s 981ms/step - loss: 0.0432 - accuracy: 0.9885\n",
      "Epoch 9/100\n",
      "30/30 [==============================] - 29s 979ms/step - loss: 0.0091 - accuracy: 0.9979\n",
      "Epoch 10/100\n",
      "30/30 [==============================] - 30s 984ms/step - loss: 0.1811 - accuracy: 0.9780\n",
      "Epoch 11/100\n",
      "30/30 [==============================] - 30s 989ms/step - loss: 0.0504 - accuracy: 0.9832\n",
      "Epoch 12/100\n",
      "30/30 [==============================] - 30s 989ms/step - loss: 0.0083 - accuracy: 0.9958\n",
      "Epoch 13/100\n",
      "30/30 [==============================] - 30s 1000ms/step - loss: 0.0294 - accuracy: 0.9906\n",
      "Epoch 14/100\n",
      "30/30 [==============================] - 29s 979ms/step - loss: 0.0260 - accuracy: 0.9958\n",
      "Epoch 15/100\n",
      "30/30 [==============================] - 29s 981ms/step - loss: 0.6050 - accuracy: 0.9560\n",
      "Epoch 16/100\n",
      "30/30 [==============================] - 30s 1s/step - loss: 0.0111 - accuracy: 0.9969\n",
      "Epoch 17/100\n",
      "30/30 [==============================] - 30s 985ms/step - loss: 0.0132 - accuracy: 0.9969\n",
      "Epoch 18/100\n",
      "30/30 [==============================] - 30s 983ms/step - loss: 0.0043 - accuracy: 0.9979\n",
      "Epoch 19/100\n",
      "30/30 [==============================] - 30s 1s/step - loss: 0.0157 - accuracy: 0.9958\n",
      "Epoch 20/100\n",
      "30/30 [==============================] - 30s 996ms/step - loss: 4.0536e-04 - accuracy: 1.0000\n",
      "Epoch 21/100\n",
      "30/30 [==============================] - 30s 995ms/step - loss: 0.1866 - accuracy: 0.9832\n",
      "Epoch 22/100\n",
      "30/30 [==============================] - 30s 985ms/step - loss: 0.0030 - accuracy: 0.9979\n",
      "Epoch 23/100\n",
      "30/30 [==============================] - 29s 980ms/step - loss: 0.0097 - accuracy: 0.9979\n",
      "Epoch 24/100\n",
      "30/30 [==============================] - 29s 982ms/step - loss: 3.9146e-04 - accuracy: 1.0000\n",
      "Epoch 25/100\n",
      "30/30 [==============================] - 30s 987ms/step - loss: 0.0778 - accuracy: 0.9927\n",
      "Epoch 26/100\n",
      "30/30 [==============================] - 29s 983ms/step - loss: 4.9589e-04 - accuracy: 1.0000\n",
      "Epoch 27/100\n",
      "30/30 [==============================] - 30s 988ms/step - loss: 0.0035 - accuracy: 0.9979\n",
      "Epoch 28/100\n",
      "30/30 [==============================] - 30s 984ms/step - loss: 0.1619 - accuracy: 0.9885\n",
      "Epoch 29/100\n",
      "30/30 [==============================] - 30s 983ms/step - loss: 0.0251 - accuracy: 0.9958\n",
      "Epoch 30/100\n",
      "30/30 [==============================] - 30s 984ms/step - loss: 0.0079 - accuracy: 0.9979\n",
      "Epoch 31/100\n",
      "30/30 [==============================] - 30s 987ms/step - loss: 0.0414 - accuracy: 0.9948\n",
      "Epoch 32/100\n",
      "30/30 [==============================] - 30s 990ms/step - loss: 0.0013 - accuracy: 0.9990\n",
      "Epoch 33/100\n",
      "30/30 [==============================] - 30s 984ms/step - loss: 1.7538e-04 - accuracy: 1.0000\n",
      "Epoch 34/100\n",
      "30/30 [==============================] - 30s 990ms/step - loss: 1.6858e-05 - accuracy: 1.0000\n",
      "Epoch 35/100\n",
      "30/30 [==============================] - 30s 1s/step - loss: 1.2199e-04 - accuracy: 1.0000\n",
      "Epoch 36/100\n",
      "30/30 [==============================] - 30s 986ms/step - loss: 0.0341 - accuracy: 0.9969\n",
      "Epoch 37/100\n",
      "30/30 [==============================] - 30s 991ms/step - loss: 0.0509 - accuracy: 0.9937\n",
      "Epoch 38/100\n",
      "30/30 [==============================] - 29s 980ms/step - loss: 0.0014 - accuracy: 0.9990\n",
      "Epoch 39/100\n",
      "30/30 [==============================] - 29s 982ms/step - loss: 0.0348 - accuracy: 0.9958\n",
      "Epoch 40/100\n",
      "30/30 [==============================] - 30s 990ms/step - loss: 0.0063 - accuracy: 0.9990\n",
      "Epoch 41/100\n",
      "30/30 [==============================] - 30s 986ms/step - loss: 1.2340e-04 - accuracy: 1.0000\n",
      "Epoch 42/100\n",
      "30/30 [==============================] - 29s 977ms/step - loss: 0.1814 - accuracy: 0.9864\n",
      "Epoch 43/100\n",
      "30/30 [==============================] - 29s 981ms/step - loss: 2.5386e-05 - accuracy: 1.0000\n",
      "Epoch 44/100\n",
      "30/30 [==============================] - 29s 977ms/step - loss: 2.9808e-04 - accuracy: 1.0000\n",
      "Epoch 45/100\n",
      "30/30 [==============================] - 29s 976ms/step - loss: 1.1951e-05 - accuracy: 1.0000\n",
      "Epoch 46/100\n",
      "30/30 [==============================] - 29s 982ms/step - loss: 0.0199 - accuracy: 0.9979\n",
      "Epoch 47/100\n",
      "30/30 [==============================] - 30s 986ms/step - loss: 3.3397e-04 - accuracy: 1.0000\n",
      "Epoch 48/100\n",
      "30/30 [==============================] - 29s 978ms/step - loss: 0.0543 - accuracy: 0.9937\n",
      "Epoch 49/100\n",
      "30/30 [==============================] - 29s 981ms/step - loss: 0.0110 - accuracy: 0.9979\n",
      "Epoch 50/100\n",
      "30/30 [==============================] - 29s 979ms/step - loss: 0.0302 - accuracy: 0.9969\n",
      "Epoch 51/100\n",
      "30/30 [==============================] - 30s 989ms/step - loss: 0.0472 - accuracy: 0.9990\n",
      "Epoch 52/100\n",
      "30/30 [==============================] - 29s 978ms/step - loss: 0.0024 - accuracy: 0.9990\n",
      "Epoch 53/100\n",
      "30/30 [==============================] - 29s 980ms/step - loss: 0.0029 - accuracy: 0.9990\n",
      "Epoch 54/100\n",
      "30/30 [==============================] - 29s 977ms/step - loss: 0.1844 - accuracy: 0.9864\n",
      "Epoch 55/100\n",
      "30/30 [==============================] - 30s 984ms/step - loss: 0.0052 - accuracy: 0.9979\n",
      "Epoch 56/100\n",
      "30/30 [==============================] - 29s 974ms/step - loss: 0.0039 - accuracy: 0.9990\n",
      "Epoch 57/100\n",
      "30/30 [==============================] - 29s 973ms/step - loss: 0.0139 - accuracy: 0.9979\n",
      "Epoch 58/100\n",
      "30/30 [==============================] - 29s 970ms/step - loss: 1.6459e-04 - accuracy: 1.0000\n",
      "Epoch 59/100\n",
      "30/30 [==============================] - 29s 970ms/step - loss: 0.0276 - accuracy: 0.9969\n",
      "Epoch 60/100\n",
      "30/30 [==============================] - 29s 971ms/step - loss: 0.0176 - accuracy: 0.9979\n",
      "Epoch 61/100\n",
      "30/30 [==============================] - 29s 970ms/step - loss: 0.0263 - accuracy: 0.9948\n",
      "Epoch 62/100\n",
      "30/30 [==============================] - 29s 970ms/step - loss: 0.0017 - accuracy: 0.9990\n",
      "Epoch 63/100\n",
      "30/30 [==============================] - 29s 972ms/step - loss: 3.7876e-04 - accuracy: 1.0000\n",
      "Epoch 64/100\n",
      "30/30 [==============================] - 29s 972ms/step - loss: 1.5850e-05 - accuracy: 1.0000\n",
      "Epoch 65/100\n",
      "30/30 [==============================] - 29s 973ms/step - loss: 1.9766e-04 - accuracy: 1.0000\n",
      "Epoch 66/100\n",
      "30/30 [==============================] - 29s 972ms/step - loss: 1.5562e-06 - accuracy: 1.0000\n",
      "Epoch 67/100\n",
      "30/30 [==============================] - 29s 968ms/step - loss: 1.1196e-05 - accuracy: 1.0000\n",
      "Epoch 68/100\n",
      "30/30 [==============================] - 29s 971ms/step - loss: 1.6749e-07 - accuracy: 1.0000\n",
      "Epoch 69/100\n",
      "30/30 [==============================] - 29s 972ms/step - loss: 0.0062 - accuracy: 0.9979\n",
      "Epoch 70/100\n",
      "30/30 [==============================] - 29s 973ms/step - loss: 6.8652e-05 - accuracy: 1.0000\n",
      "Epoch 71/100\n",
      "30/30 [==============================] - 29s 975ms/step - loss: 4.3840e-08 - accuracy: 1.0000\n",
      "Epoch 72/100\n",
      "30/30 [==============================] - 29s 968ms/step - loss: 0.0106 - accuracy: 0.9979\n",
      "Epoch 73/100\n",
      "30/30 [==============================] - 29s 971ms/step - loss: 0.0225 - accuracy: 0.9979\n",
      "Epoch 74/100\n",
      "30/30 [==============================] - 29s 972ms/step - loss: 3.1007e-08 - accuracy: 1.0000\n",
      "Epoch 75/100\n",
      "30/30 [==============================] - 29s 975ms/step - loss: 0.0278 - accuracy: 0.9979\n",
      "Epoch 76/100\n",
      "30/30 [==============================] - 29s 972ms/step - loss: 2.3445e-04 - accuracy: 1.0000\n",
      "Epoch 77/100\n",
      "30/30 [==============================] - 29s 973ms/step - loss: 6.3763e-06 - accuracy: 1.0000\n",
      "Epoch 78/100\n",
      "30/30 [==============================] - 30s 1s/step - loss: 2.5172e-05 - accuracy: 1.0000\n",
      "Epoch 79/100\n",
      "30/30 [==============================] - 29s 982ms/step - loss: 1.1782e-05 - accuracy: 1.0000\n",
      "Epoch 80/100\n",
      "30/30 [==============================] - 29s 980ms/step - loss: 8.1839e-09 - accuracy: 1.0000\n",
      "Epoch 81/100\n",
      "30/30 [==============================] - 29s 973ms/step - loss: 1.7906e-07 - accuracy: 1.0000\n",
      "Epoch 82/100\n",
      "30/30 [==============================] - 29s 975ms/step - loss: 0.0535 - accuracy: 0.9979\n",
      "Epoch 83/100\n",
      "30/30 [==============================] - 29s 979ms/step - loss: 0.0021 - accuracy: 0.9990\n",
      "Epoch 84/100\n",
      "30/30 [==============================] - 30s 984ms/step - loss: 1.2825e-05 - accuracy: 1.0000\n",
      "Epoch 85/100\n",
      "30/30 [==============================] - 29s 977ms/step - loss: 7.8400e-06 - accuracy: 1.0000\n",
      "Epoch 86/100\n",
      "30/30 [==============================] - 30s 987ms/step - loss: 4.2779e-06 - accuracy: 1.0000\n",
      "Epoch 87/100\n",
      "30/30 [==============================] - 30s 986ms/step - loss: 0.1418 - accuracy: 0.9916\n",
      "Epoch 88/100\n",
      "30/30 [==============================] - 30s 989ms/step - loss: 0.0029 - accuracy: 0.9990\n",
      "Epoch 89/100\n",
      "30/30 [==============================] - 29s 974ms/step - loss: 0.0239 - accuracy: 0.9969\n",
      "Epoch 90/100\n",
      "30/30 [==============================] - 29s 978ms/step - loss: 1.3790e-04 - accuracy: 1.0000\n",
      "Epoch 91/100\n",
      "30/30 [==============================] - 29s 981ms/step - loss: 0.0038 - accuracy: 0.9990\n",
      "Epoch 92/100\n",
      "30/30 [==============================] - 29s 976ms/step - loss: 0.0685 - accuracy: 0.9927\n",
      "Epoch 93/100\n",
      "30/30 [==============================] - 29s 974ms/step - loss: 6.1628e-07 - accuracy: 1.0000\n",
      "Epoch 94/100\n",
      "30/30 [==============================] - 29s 974ms/step - loss: 0.0053 - accuracy: 0.9979\n",
      "Epoch 95/100\n",
      "30/30 [==============================] - 29s 978ms/step - loss: 0.0068 - accuracy: 0.9979\n",
      "Epoch 96/100\n",
      "30/30 [==============================] - 29s 976ms/step - loss: 3.8542e-05 - accuracy: 1.0000\n",
      "Epoch 97/100\n",
      "30/30 [==============================] - 29s 978ms/step - loss: 1.9784e-10 - accuracy: 1.0000\n",
      "Epoch 98/100\n",
      "30/30 [==============================] - 29s 973ms/step - loss: 4.7341e-06 - accuracy: 1.0000\n",
      "Epoch 99/100\n",
      "30/30 [==============================] - 29s 978ms/step - loss: 4.3717e-06 - accuracy: 1.0000\n",
      "Epoch 100/100\n",
      "30/30 [==============================] - 29s 969ms/step - loss: 0.0042 - accuracy: 0.9990\n"
     ]
    },
    {
     "data": {
      "text/plain": [
       "<keras.callbacks.History at 0x24b82375c30>"
      ]
     },
     "execution_count": 46,
     "metadata": {},
     "output_type": "execute_result"
    }
   ],
   "source": [
    "model_cnn.fit(X_train,y_train,epochs=100,verbose=1)"
   ]
  },
  {
   "cell_type": "code",
   "execution_count": 47,
   "id": "03862f06",
   "metadata": {},
   "outputs": [
    {
     "name": "stdout",
     "output_type": "stream",
     "text": [
      "4/4 [==============================] - 2s 203ms/step - loss: 0.6344 - accuracy: 0.9151\n"
     ]
    },
    {
     "data": {
      "text/plain": [
       "[0.6343750953674316, 0.9150943160057068]"
      ]
     },
     "execution_count": 47,
     "metadata": {},
     "output_type": "execute_result"
    }
   ],
   "source": [
    "model.evaluate(X_test,y_test)"
   ]
  },
  {
   "cell_type": "code",
   "execution_count": 48,
   "id": "c3785582",
   "metadata": {},
   "outputs": [
    {
     "name": "stdout",
     "output_type": "stream",
     "text": [
      "4/4 [==============================] - 1s 121ms/step - loss: 1.3776 - accuracy: 0.9717\n"
     ]
    },
    {
     "data": {
      "text/plain": [
       "[1.377643346786499, 0.9716981053352356]"
      ]
     },
     "execution_count": 48,
     "metadata": {},
     "output_type": "execute_result"
    }
   ],
   "source": [
    "model_cnn.evaluate(X_test,y_test)"
   ]
  },
  {
   "cell_type": "code",
   "execution_count": 49,
   "id": "fc163007",
   "metadata": {},
   "outputs": [
    {
     "name": "stdout",
     "output_type": "stream",
     "text": [
      "4/4 [==============================] - 1s 122ms/step\n"
     ]
    }
   ],
   "source": [
    "pred=model_cnn.predict(X_test)\n",
    "# pred"
   ]
  },
  {
   "cell_type": "code",
   "execution_count": 50,
   "id": "9672b751",
   "metadata": {},
   "outputs": [
    {
     "data": {
      "text/plain": [
       "array([0.], dtype=float32)"
      ]
     },
     "execution_count": 50,
     "metadata": {},
     "output_type": "execute_result"
    }
   ],
   "source": [
    "pred[1]"
   ]
  },
  {
   "cell_type": "code",
   "execution_count": 51,
   "id": "d070e25e",
   "metadata": {},
   "outputs": [],
   "source": [
    "preds=[round(p[0]) for p in pred]"
   ]
  },
  {
   "cell_type": "code",
   "execution_count": 52,
   "id": "42d14f12",
   "metadata": {},
   "outputs": [],
   "source": [
    "from sklearn.metrics import classification_report"
   ]
  },
  {
   "cell_type": "code",
   "execution_count": 53,
   "id": "e8f920ca",
   "metadata": {},
   "outputs": [
    {
     "name": "stdout",
     "output_type": "stream",
     "text": [
      "              precision    recall  f1-score   support\n",
      "\n",
      "           0       0.95      1.00      0.98        63\n",
      "           1       1.00      0.93      0.96        43\n",
      "\n",
      "    accuracy                           0.97       106\n",
      "   macro avg       0.98      0.97      0.97       106\n",
      "weighted avg       0.97      0.97      0.97       106\n",
      "\n"
     ]
    }
   ],
   "source": [
    "# model CNN result MV Model\n",
    "print(classification_report(np.array(preds),y_test))"
   ]
  },
  {
   "cell_type": "code",
   "execution_count": 54,
   "id": "6aacc94e",
   "metadata": {},
   "outputs": [
    {
     "name": "stdout",
     "output_type": "stream",
     "text": [
      "4/4 [==============================] - 2s 266ms/step\n",
      "              precision    recall  f1-score   support\n",
      "\n",
      "           0       0.92      0.94      0.93        65\n",
      "           1       0.90      0.88      0.89        41\n",
      "\n",
      "    accuracy                           0.92       106\n",
      "   macro avg       0.91      0.91      0.91       106\n",
      "weighted avg       0.91      0.92      0.91       106\n",
      "\n"
     ]
    }
   ],
   "source": [
    "# model RNN result\n",
    "pred=model.predict(X_test)\n",
    "preds=[round(p[0]) for p in pred]\n",
    "print(classification_report(np.array(preds),y_test))"
   ]
  },
  {
   "cell_type": "code",
   "execution_count": null,
   "id": "8f0bec32",
   "metadata": {},
   "outputs": [],
   "source": []
  }
 ],
 "metadata": {
  "kernelspec": {
   "display_name": "Python 3 (ipykernel)",
   "language": "python",
   "name": "python3"
  },
  "language_info": {
   "codemirror_mode": {
    "name": "ipython",
    "version": 3
   },
   "file_extension": ".py",
   "mimetype": "text/x-python",
   "name": "python",
   "nbconvert_exporter": "python",
   "pygments_lexer": "ipython3",
   "version": "3.10.9"
  }
 },
 "nbformat": 4,
 "nbformat_minor": 5
}
